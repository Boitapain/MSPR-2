{
 "cells": [
  {
   "cell_type": "code",
   "execution_count": 12,
   "id": "009b90b2-353e-4a8d-9f38-ab76da3b28c9",
   "metadata": {},
   "outputs": [],
   "source": [
    "import pandas as pd\n",
    "\n",
    "##### Ajout de la population dan le DataSet #####\n",
    "\n",
    "# Charger les données\n",
    "population_df = pd.read_csv('country_population_2020.csv')\n",
    "covid_df = pd.read_csv('data_etl_output.csv')\n",
    "\n",
    "# Créer un dictionnaire de mapping pour les noms de pays qui diffèrent\n",
    "country_name_mapping = {\n",
    "    'Burma': 'Myanmar',\n",
    "    'Congo (Brazzaville)': 'Congo',\n",
    "    'Congo (Kinshasa)': 'DR Congo',\n",
    "    'Czechia': 'Czech Republic (Czechia)',\n",
    "    'Taiwan*': 'Taiwan',\n",
    "    'US': 'United States',\n",
    "    'West Bank and Gaza': 'State of Palestine',\n",
    "    'Kosovo': 'Kosovo',  # Kosovo n'est pas dans le fichier population\n",
    "    \"Cote d'Ivoire\": \"Côte d'Ivoire\",\n",
    "    'Saint Kitts and Nevis': 'Saint Kitts & Nevis',\n",
    "    'Saint Vincent and the Grenadines': 'St. Vincent & Grenadines',\n",
    "    'Sao Tome and Principe': 'Sao Tome & Principe'\n",
    "}\n",
    "\n",
    "# Ajout manuel de la population du Kosovo car vide\n",
    "kosovo_data = pd.DataFrame({\n",
    "    'Country (or dependency)': ['Kosovo'],\n",
    "    'Population (2020)': [1920079],\n",
    "    'Yearly Change': [\"\"],\n",
    "    'Net Change': [\"\"],\n",
    "    'Density (P/Km²)': [\"\"],\n",
    "    'Land Area (Km²)': [\"\"],\n",
    "    'Migrants (net)': [\"\"],\n",
    "    'Fert. Rate': [\"\"],\n",
    "    'Med. Age': [\"\"],\n",
    "    'Urban Pop %': [\"\"],\n",
    "    'World Share': [\"\"]\n",
    "})\n",
    "\n",
    "# Concatenate Kosovo data with population data\n",
    "population_df = pd.concat([population_df, kosovo_data], ignore_index=True)\n",
    "\n",
    "# Nettoyer les noms de pays dans les deux dataframes\n",
    "population_df['Country'] = population_df['Country (or dependency)'].str.strip()\n",
    "covid_df['Country'] = covid_df['Country'].str.strip()\n",
    "\n",
    "# Appliquer le mapping aux noms de pays dans covid_df\n",
    "covid_df['Country'] = covid_df['Country'].replace(country_name_mapping)\n",
    "\n",
    "# Fusionner les données en gardant toutes les lignes de covid_df\n",
    "final_df = pd.merge(\n",
    "    covid_df,\n",
    "    population_df[['Country', 'Population (2020)']],\n",
    "    on='Country',\n",
    "    how='left'\n",
    ")\n",
    "\n",
    "# Renommer la colonne de population\n",
    "final_df.rename(columns={'Population (2020)': 'Population'}, inplace=True)"
   ]
  },
  {
   "cell_type": "code",
   "execution_count": 26,
   "id": "ca4a779e-9045-4331-bd7f-666a1c78caf2",
   "metadata": {},
   "outputs": [],
   "source": [
    "##### Ajoute les colonnes Confirmed_per_100K, ... pour apporter de nouvelles metrics à nos modèles #####\n",
    "\n",
    "final_df[\"Confirmed_per_100K\"] = final_df[\"Confirmed\"] / (final_df[\"Population\"] / 100000)\n",
    "final_df[\"Deaths_per_100K\"] = final_df[\"Deaths\"] / (final_df[\"Population\"] / 100000)\n",
    "final_df[\"Recovered_per_100K\"] = final_df[\"Recovered\"] / (final_df[\"Population\"] / 100000)\n",
    "\n",
    "##### Calcul des tendances et moyennes mobiles #####\n",
    "for col in ['Confirmed', 'Deaths', 'Recovered']:\n",
    "    final_df[f'{col}_rolling_avg3'] = final_df.groupby('Country')[col].transform(\n",
    "        lambda x: x.rolling(3, min_periods=1).mean()\n",
    "    )\n",
    "    \n",
    "    final_df[f'{col}_trend'] = final_df.groupby('Country')[col].transform(\n",
    "        lambda x: x.diff().rolling(3, min_periods=1).mean().fillna(0)\n",
    "    )"
   ]
  },
  {
   "cell_type": "code",
   "execution_count": 27,
   "id": "5caa03c4-2ca3-4fbc-aa5b-6b39e19fb273",
   "metadata": {},
   "outputs": [],
   "source": [
    "# Sauvegarder le résultat\n",
    "final_df.to_csv('mspr2_dataset.csv', index=False)"
   ]
  }
 ],
 "metadata": {
  "kernelspec": {
   "display_name": "Python 3 (ipykernel)",
   "language": "python",
   "name": "python3"
  },
  "language_info": {
   "codemirror_mode": {
    "name": "ipython",
    "version": 3
   },
   "file_extension": ".py",
   "mimetype": "text/x-python",
   "name": "python",
   "nbconvert_exporter": "python",
   "pygments_lexer": "ipython3",
   "version": "3.9.23"
  }
 },
 "nbformat": 4,
 "nbformat_minor": 5
}
